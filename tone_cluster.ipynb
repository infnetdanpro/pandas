{
 "cells": [
  {
   "cell_type": "code",
   "execution_count": 1,
   "metadata": {},
   "outputs": [
    {
     "name": "stderr",
     "output_type": "stream",
     "text": [
      "2018-11-11 13:26:30,298 : INFO : 'pattern' package not found; tag filters are not available for English\n",
      "/home/max/python/yandex/gensim/lib/python3.6/site-packages/sklearn/cross_validation.py:41: DeprecationWarning: This module was deprecated in version 0.18 in favor of the model_selection module into which all the refactored classes and functions are moved. Also note that the interface of the new CV iterators are different from that of this module. This module will be removed in 0.20.\n",
      "  \"This module will be removed in 0.20.\", DeprecationWarning)\n"
     ]
    }
   ],
   "source": [
    "#https://www.youtube.com/watch?v=oBb9aFmp0Hs\n",
    "#https://events.yandex.ru/lib/talks/4137/\n",
    "import logging\n",
    "logging.root.handlers = []  # Jupyter messes up logging so needs a reset\n",
    "logging.basicConfig(format='%(asctime)s : %(levelname)s : %(message)s', level=logging.INFO)\n",
    "from smart_open import smart_open\n",
    "import pandas as pd\n",
    "import numpy as np\n",
    "from numpy import random\n",
    "import gensim\n",
    "import nltk\n",
    "from sklearn.cross_validation import train_test_split\n",
    "from sklearn import linear_model\n",
    "from sklearn.feature_extraction.text import CountVectorizer, TfidfVectorizer\n",
    "from sklearn.metrics import accuracy_score, confusion_matrix\n",
    "import matplotlib.pyplot as plt\n",
    "from gensim.models import Word2Vec\n",
    "from sklearn.neighbors import KNeighborsClassifier\n",
    "from sklearn import linear_model\n",
    "from nltk.corpus import stopwords\n",
    "\n",
    "%matplotlib inline"
   ]
  },
  {
   "cell_type": "code",
   "execution_count": 3,
   "metadata": {},
   "outputs": [
    {
     "data": {
      "text/plain": [
       "2762056"
      ]
     },
     "execution_count": 3,
     "metadata": {},
     "output_type": "execute_result"
    }
   ],
   "source": [
    "df = pd.read_csv('/home/max/python/yandex/wepster/tweet.csv')\n",
    "df = df.dropna()\n",
    "df['plot'].apply(lambda x: len(x.split(' '))).sum()"
   ]
  },
  {
   "cell_type": "code",
   "execution_count": 4,
   "metadata": {},
   "outputs": [
    {
     "data": {
      "text/plain": [
       "<matplotlib.axes._subplots.AxesSubplot at 0x7f5f9a40c4e0>"
      ]
     },
     "execution_count": 4,
     "metadata": {},
     "output_type": "execute_result"
    },
    {
     "data": {
      "image/png": "[encoded data removed]",
      "text/plain": [
       "<Figure size 432x288 with 1 Axes>"
      ]
     },
     "metadata": {},
     "output_type": "display_data"
    }
   ],
   "source": [
    "my_tags = ['positive' , 'negative']\n",
    "df.tag.value_counts().plot(kind=\"bar\", rot=0)"
   ]
  },
  {
   "cell_type": "code",
   "execution_count": 5,
   "metadata": {},
   "outputs": [
    {
     "data": {
      "text/html": [
       "<div>\n",
       "<style scoped>\n",
       "    .dataframe tbody tr th:only-of-type {\n",
       "        vertical-align: middle;\n",
       "    }\n",
       "\n",
       "    .dataframe tbody tr th {\n",
       "        vertical-align: top;\n",
       "    }\n",
       "\n",
       "    .dataframe thead th {\n",
       "        text-align: right;\n",
       "    }\n",
       "</style>\n",
       "<table border=\"1\" class=\"dataframe\">\n",
       "  <thead>\n",
       "    <tr style=\"text-align: right;\">\n",
       "      <th></th>\n",
       "      <th>movieId</th>\n",
       "      <th>plot</th>\n",
       "      <th>tag</th>\n",
       "    </tr>\n",
       "  </thead>\n",
       "  <tbody>\n",
       "    <tr>\n",
       "      <th>0</th>\n",
       "      <td>1</td>\n",
       "      <td>Большое спасибо за помощь, вы самый лучший сот...</td>\n",
       "      <td>positive</td>\n",
       "    </tr>\n",
       "    <tr>\n",
       "      <th>1</th>\n",
       "      <td>2</td>\n",
       "      <td>Да, все-таки он немного похож на него. Но мой ...</td>\n",
       "      <td>positive</td>\n",
       "    </tr>\n",
       "    <tr>\n",
       "      <th>2</th>\n",
       "      <td>3</td>\n",
       "      <td>RT @KatiaCheh: Ну ты идиотка) я испугалась за ...</td>\n",
       "      <td>positive</td>\n",
       "    </tr>\n",
       "    <tr>\n",
       "      <th>3</th>\n",
       "      <td>4</td>\n",
       "      <td>RT @digger2912: \"Кто то в углу сидит и погибае...</td>\n",
       "      <td>positive</td>\n",
       "    </tr>\n",
       "    <tr>\n",
       "      <th>4</th>\n",
       "      <td>5</td>\n",
       "      <td>@irina_dyshkant Вот что значит страшилка :D\\nН...</td>\n",
       "      <td>positive</td>\n",
       "    </tr>\n",
       "    <tr>\n",
       "      <th>5</th>\n",
       "      <td>6</td>\n",
       "      <td>ну любишь или нет? — Я не знаю кто ты бля:D ht...</td>\n",
       "      <td>positive</td>\n",
       "    </tr>\n",
       "    <tr>\n",
       "      <th>6</th>\n",
       "      <td>7</td>\n",
       "      <td>RT @SpoonLamer: Ох,900 :D ну это конечно же @t...</td>\n",
       "      <td>positive</td>\n",
       "    </tr>\n",
       "    <tr>\n",
       "      <th>7</th>\n",
       "      <td>8</td>\n",
       "      <td>RT @veregijytaqo: У тебя есть ухажёр? Нет - мо...</td>\n",
       "      <td>positive</td>\n",
       "    </tr>\n",
       "    <tr>\n",
       "      <th>8</th>\n",
       "      <td>9</td>\n",
       "      <td>Поприветствуем моего нового читателя @Alexey17...</td>\n",
       "      <td>positive</td>\n",
       "    </tr>\n",
       "    <tr>\n",
       "      <th>9</th>\n",
       "      <td>10</td>\n",
       "      <td>Теперь у меня есть частичка Сиднея :) #Sydney ...</td>\n",
       "      <td>positive</td>\n",
       "    </tr>\n",
       "    <tr>\n",
       "      <th>10</th>\n",
       "      <td>11</td>\n",
       "      <td>Люблю маму и папу!!!!а в остальное я так...-вл...</td>\n",
       "      <td>positive</td>\n",
       "    </tr>\n",
       "    <tr>\n",
       "      <th>11</th>\n",
       "      <td>12</td>\n",
       "      <td>RT @dicyziqecida: Как-то я забыла, что вчера п...</td>\n",
       "      <td>positive</td>\n",
       "    </tr>\n",
       "    <tr>\n",
       "      <th>12</th>\n",
       "      <td>13</td>\n",
       "      <td>@MrsRourke_s_tit @_vivante @dyu_bryun так было...</td>\n",
       "      <td>positive</td>\n",
       "    </tr>\n",
       "    <tr>\n",
       "      <th>13</th>\n",
       "      <td>14</td>\n",
       "      <td>@Kruglova_Julia_  дааааа))\\nТы... Ты... Ты и т...</td>\n",
       "      <td>positive</td>\n",
       "    </tr>\n",
       "    <tr>\n",
       "      <th>14</th>\n",
       "      <td>15</td>\n",
       "      <td>@Alex_Shvarz :)) О, нет. Вы ведь всё равно обз...</td>\n",
       "      <td>positive</td>\n",
       "    </tr>\n",
       "    <tr>\n",
       "      <th>15</th>\n",
       "      <td>16</td>\n",
       "      <td>@Jyliaalex смотри там случайно в аспирантуру н...</td>\n",
       "      <td>positive</td>\n",
       "    </tr>\n",
       "    <tr>\n",
       "      <th>16</th>\n",
       "      <td>17</td>\n",
       "      <td>RT @Abdullin_A_R: @LikhodedovaMary эхх, а в УГ...</td>\n",
       "      <td>positive</td>\n",
       "    </tr>\n",
       "    <tr>\n",
       "      <th>17</th>\n",
       "      <td>18</td>\n",
       "      <td>@marinaysol а, а то подумала, что у тебя там п...</td>\n",
       "      <td>positive</td>\n",
       "    </tr>\n",
       "    <tr>\n",
       "      <th>18</th>\n",
       "      <td>19</td>\n",
       "      <td>@xLesherx @4EU3 зря вы с этой хуйней шутите)) ...</td>\n",
       "      <td>positive</td>\n",
       "    </tr>\n",
       "    <tr>\n",
       "      <th>19</th>\n",
       "      <td>20</td>\n",
       "      <td>@Moscow_advokat Очень главное спасибо for   МЕ...</td>\n",
       "      <td>positive</td>\n",
       "    </tr>\n",
       "    <tr>\n",
       "      <th>20</th>\n",
       "      <td>21</td>\n",
       "      <td>У нас есть прекрасная история, как сдохнуть за...</td>\n",
       "      <td>positive</td>\n",
       "    </tr>\n",
       "    <tr>\n",
       "      <th>21</th>\n",
       "      <td>22</td>\n",
       "      <td>@Benjamin1610 сегодня столько поводов выпить, ...</td>\n",
       "      <td>positive</td>\n",
       "    </tr>\n",
       "    <tr>\n",
       "      <th>22</th>\n",
       "      <td>23</td>\n",
       "      <td>@StalinGulag унылый?...наверное...вдруг его пе...</td>\n",
       "      <td>positive</td>\n",
       "    </tr>\n",
       "    <tr>\n",
       "      <th>23</th>\n",
       "      <td>24</td>\n",
       "      <td>RT @lumenso: @GruzdevVladimir @Sergey_Degtyrev...</td>\n",
       "      <td>positive</td>\n",
       "    </tr>\n",
       "    <tr>\n",
       "      <th>24</th>\n",
       "      <td>25</td>\n",
       "      <td>Поприветствуем моего нового читателя @afyfglpr...</td>\n",
       "      <td>positive</td>\n",
       "    </tr>\n",
       "    <tr>\n",
       "      <th>25</th>\n",
       "      <td>26</td>\n",
       "      <td>Как же хооорошо валяться, но мой бедный, обкол...</td>\n",
       "      <td>positive</td>\n",
       "    </tr>\n",
       "    <tr>\n",
       "      <th>26</th>\n",
       "      <td>27</td>\n",
       "      <td>Хоть у кого то заебись всё) Настюх, рада за те...</td>\n",
       "      <td>positive</td>\n",
       "    </tr>\n",
       "    <tr>\n",
       "      <th>27</th>\n",
       "      <td>28</td>\n",
       "      <td>да почему мне похуй то)\\nНоверное потому что е...</td>\n",
       "      <td>positive</td>\n",
       "    </tr>\n",
       "    <tr>\n",
       "      <th>28</th>\n",
       "      <td>29</td>\n",
       "      <td>блин,хочется писать и писать))всякую хуйню пиш...</td>\n",
       "      <td>positive</td>\n",
       "    </tr>\n",
       "    <tr>\n",
       "      <th>29</th>\n",
       "      <td>30</td>\n",
       "      <td>@JuliaLacoste_ @Kate_Craik а мне хотя бы расск...</td>\n",
       "      <td>positive</td>\n",
       "    </tr>\n",
       "    <tr>\n",
       "      <th>...</th>\n",
       "      <td>...</td>\n",
       "      <td>...</td>\n",
       "      <td>...</td>\n",
       "    </tr>\n",
       "    <tr>\n",
       "      <th>226802</th>\n",
       "      <td>226803</td>\n",
       "      <td>@Paul_maaan Дженсэна опять забыли т.т его за ч...</td>\n",
       "      <td>negative</td>\n",
       "    </tr>\n",
       "    <tr>\n",
       "      <th>226803</th>\n",
       "      <td>226804</td>\n",
       "      <td>когда мы первый раз встретились был дождь… я п...</td>\n",
       "      <td>negative</td>\n",
       "    </tr>\n",
       "    <tr>\n",
       "      <th>226804</th>\n",
       "      <td>226805</td>\n",
       "      <td>Чщпсщрщрссщрщрсшаааггввшвллидцяхьувзькдсьзцябх...</td>\n",
       "      <td>negative</td>\n",
       "    </tr>\n",
       "    <tr>\n",
       "      <th>226805</th>\n",
       "      <td>226806</td>\n",
       "      <td>А кто то на работу уже встает, а я вас заснуть...</td>\n",
       "      <td>negative</td>\n",
       "    </tr>\n",
       "    <tr>\n",
       "      <th>226806</th>\n",
       "      <td>226807</td>\n",
       "      <td>Утро началось с холода, не плохое начало(</td>\n",
       "      <td>negative</td>\n",
       "    </tr>\n",
       "    <tr>\n",
       "      <th>226807</th>\n",
       "      <td>226808</td>\n",
       "      <td>когда наплоюсь на пидораса и маньяка похож((((...</td>\n",
       "      <td>negative</td>\n",
       "    </tr>\n",
       "    <tr>\n",
       "      <th>226808</th>\n",
       "      <td>226809</td>\n",
       "      <td>@ChrisDryagina @Yulya_Plokhikh_ @Safonkaa ахах...</td>\n",
       "      <td>negative</td>\n",
       "    </tr>\n",
       "    <tr>\n",
       "      <th>226809</th>\n",
       "      <td>226810</td>\n",
       "      <td>почему я скучаю по Мише вообще всегда?Даж когд...</td>\n",
       "      <td>negative</td>\n",
       "    </tr>\n",
       "    <tr>\n",
       "      <th>226810</th>\n",
       "      <td>226811</td>\n",
       "      <td>все девушки мечтают о своем солнышке, а кругом...</td>\n",
       "      <td>negative</td>\n",
       "    </tr>\n",
       "    <tr>\n",
       "      <th>226811</th>\n",
       "      <td>226812</td>\n",
       "      <td>@darianovitskay я всю ночь не спала,засыпала м...</td>\n",
       "      <td>negative</td>\n",
       "    </tr>\n",
       "    <tr>\n",
       "      <th>226812</th>\n",
       "      <td>226813</td>\n",
       "      <td>Хочу на тренюю...Но на хоккей буду ходить толь...</td>\n",
       "      <td>negative</td>\n",
       "    </tr>\n",
       "    <tr>\n",
       "      <th>226813</th>\n",
       "      <td>226814</td>\n",
       "      <td>Как я устала , каждый день вставать в 7 утра и...</td>\n",
       "      <td>negative</td>\n",
       "    </tr>\n",
       "    <tr>\n",
       "      <th>226814</th>\n",
       "      <td>226815</td>\n",
       "      <td>http://t.co/1XBDaRHabI Длинная зеленая куртка ...</td>\n",
       "      <td>negative</td>\n",
       "    </tr>\n",
       "    <tr>\n",
       "      <th>226815</th>\n",
       "      <td>226816</td>\n",
       "      <td>Вчера в электричке дяденька рисовал мой портре...</td>\n",
       "      <td>negative</td>\n",
       "    </tr>\n",
       "    <tr>\n",
       "      <th>226816</th>\n",
       "      <td>226817</td>\n",
       "      <td>Бля, еще хренотень какая-то снилась всю ночь(</td>\n",
       "      <td>negative</td>\n",
       "    </tr>\n",
       "    <tr>\n",
       "      <th>226817</th>\n",
       "      <td>226818</td>\n",
       "      <td>я хочу спааать, но надо ещё на биологию идти(</td>\n",
       "      <td>negative</td>\n",
       "    </tr>\n",
       "    <tr>\n",
       "      <th>226818</th>\n",
       "      <td>226819</td>\n",
       "      <td>Мой мальчик заболел:( http://t.co/oMSLJ7Z2IX</td>\n",
       "      <td>negative</td>\n",
       "    </tr>\n",
       "    <tr>\n",
       "      <th>226819</th>\n",
       "      <td>226820</td>\n",
       "      <td>@LidiyaVlasova это точно ( походу давление ((</td>\n",
       "      <td>negative</td>\n",
       "    </tr>\n",
       "    <tr>\n",
       "      <th>226820</th>\n",
       "      <td>226821</td>\n",
       "      <td>RT @Russia_calls: Шлегель забанил за это((  ht...</td>\n",
       "      <td>negative</td>\n",
       "    </tr>\n",
       "    <tr>\n",
       "      <th>226821</th>\n",
       "      <td>226822</td>\n",
       "      <td>@alginova96 @Betyasso в школу все таки я пошла...</td>\n",
       "      <td>negative</td>\n",
       "    </tr>\n",
       "    <tr>\n",
       "      <th>226822</th>\n",
       "      <td>226823</td>\n",
       "      <td>@ivanenko14 и у меня также, только будильник е...</td>\n",
       "      <td>negative</td>\n",
       "    </tr>\n",
       "    <tr>\n",
       "      <th>226823</th>\n",
       "      <td>226824</td>\n",
       "      <td>Когда же я вернусь к тебе(( http://t.co/36qnCO...</td>\n",
       "      <td>negative</td>\n",
       "    </tr>\n",
       "    <tr>\n",
       "      <th>226824</th>\n",
       "      <td>226825</td>\n",
       "      <td>RT @qelasocadij: Скажите пожалуйста, как у чел...</td>\n",
       "      <td>negative</td>\n",
       "    </tr>\n",
       "    <tr>\n",
       "      <th>226825</th>\n",
       "      <td>226826</td>\n",
       "      <td>У нас физ ра на улице\\nПака линт:(\\nЧерез 45 м...</td>\n",
       "      <td>negative</td>\n",
       "    </tr>\n",
       "    <tr>\n",
       "      <th>226826</th>\n",
       "      <td>226827</td>\n",
       "      <td>Нас сегодня отказались принять в сад, типа мы ...</td>\n",
       "      <td>negative</td>\n",
       "    </tr>\n",
       "    <tr>\n",
       "      <th>226827</th>\n",
       "      <td>226828</td>\n",
       "      <td>Но не каждый хочет что то исправлять:( http://...</td>\n",
       "      <td>negative</td>\n",
       "    </tr>\n",
       "    <tr>\n",
       "      <th>226828</th>\n",
       "      <td>226829</td>\n",
       "      <td>скучаю так :-( только @taaannyaaa вправляет мо...</td>\n",
       "      <td>negative</td>\n",
       "    </tr>\n",
       "    <tr>\n",
       "      <th>226829</th>\n",
       "      <td>226830</td>\n",
       "      <td>Вот и в школу, в говно это идти уже надо(</td>\n",
       "      <td>negative</td>\n",
       "    </tr>\n",
       "    <tr>\n",
       "      <th>226830</th>\n",
       "      <td>226831</td>\n",
       "      <td>RT @_Them__: @LisaBeroud Тауриэль, не грусти :...</td>\n",
       "      <td>negative</td>\n",
       "    </tr>\n",
       "    <tr>\n",
       "      <th>226831</th>\n",
       "      <td>226832</td>\n",
       "      <td>Такси везет меня на работу. Раздумываю приплат...</td>\n",
       "      <td>negative</td>\n",
       "    </tr>\n",
       "  </tbody>\n",
       "</table>\n",
       "<p>226828 rows × 3 columns</p>\n",
       "</div>"
      ],
      "text/plain": [
       "        movieId                                               plot       tag\n",
       "0             1  Большое спасибо за помощь, вы самый лучший сот...  positive\n",
       "1             2  Да, все-таки он немного похож на него. Но мой ...  positive\n",
       "2             3  RT @KatiaCheh: Ну ты идиотка) я испугалась за ...  positive\n",
       "3             4  RT @digger2912: \"Кто то в углу сидит и погибае...  positive\n",
       "4             5  @irina_dyshkant Вот что значит страшилка :D\\nН...  positive\n",
       "5             6  ну любишь или нет? — Я не знаю кто ты бля:D ht...  positive\n",
       "6             7  RT @SpoonLamer: Ох,900 :D ну это конечно же @t...  positive\n",
       "7             8  RT @veregijytaqo: У тебя есть ухажёр? Нет - мо...  positive\n",
       "8             9  Поприветствуем моего нового читателя @Alexey17...  positive\n",
       "9            10  Теперь у меня есть частичка Сиднея :) #Sydney ...  positive\n",
       "10           11  Люблю маму и папу!!!!а в остальное я так...-вл...  positive\n",
       "11           12  RT @dicyziqecida: Как-то я забыла, что вчера п...  positive\n",
       "12           13  @MrsRourke_s_tit @_vivante @dyu_bryun так было...  positive\n",
       "13           14  @Kruglova_Julia_  дааааа))\\nТы... Ты... Ты и т...  positive\n",
       "14           15  @Alex_Shvarz :)) О, нет. Вы ведь всё равно обз...  positive\n",
       "15           16  @Jyliaalex смотри там случайно в аспирантуру н...  positive\n",
       "16           17  RT @Abdullin_A_R: @LikhodedovaMary эхх, а в УГ...  positive\n",
       "17           18  @marinaysol а, а то подумала, что у тебя там п...  positive\n",
       "18           19  @xLesherx @4EU3 зря вы с этой хуйней шутите)) ...  positive\n",
       "19           20  @Moscow_advokat Очень главное спасибо for   МЕ...  positive\n",
       "20           21  У нас есть прекрасная история, как сдохнуть за...  positive\n",
       "21           22  @Benjamin1610 сегодня столько поводов выпить, ...  positive\n",
       "22           23  @StalinGulag унылый?...наверное...вдруг его пе...  positive\n",
       "23           24  RT @lumenso: @GruzdevVladimir @Sergey_Degtyrev...  positive\n",
       "24           25  Поприветствуем моего нового читателя @afyfglpr...  positive\n",
       "25           26  Как же хооорошо валяться, но мой бедный, обкол...  positive\n",
       "26           27  Хоть у кого то заебись всё) Настюх, рада за те...  positive\n",
       "27           28  да почему мне похуй то)\\nНоверное потому что е...  positive\n",
       "28           29  блин,хочется писать и писать))всякую хуйню пиш...  positive\n",
       "29           30  @JuliaLacoste_ @Kate_Craik а мне хотя бы расск...  positive\n",
       "...         ...                                                ...       ...\n",
       "226802   226803  @Paul_maaan Дженсэна опять забыли т.т его за ч...  negative\n",
       "226803   226804  когда мы первый раз встретились был дождь… я п...  negative\n",
       "226804   226805  Чщпсщрщрссщрщрсшаааггввшвллидцяхьувзькдсьзцябх...  negative\n",
       "226805   226806  А кто то на работу уже встает, а я вас заснуть...  negative\n",
       "226806   226807          Утро началось с холода, не плохое начало(  negative\n",
       "226807   226808  когда наплоюсь на пидораса и маньяка похож((((...  negative\n",
       "226808   226809  @ChrisDryagina @Yulya_Plokhikh_ @Safonkaa ахах...  negative\n",
       "226809   226810  почему я скучаю по Мише вообще всегда?Даж когд...  negative\n",
       "226810   226811  все девушки мечтают о своем солнышке, а кругом...  negative\n",
       "226811   226812  @darianovitskay я всю ночь не спала,засыпала м...  negative\n",
       "226812   226813  Хочу на тренюю...Но на хоккей буду ходить толь...  negative\n",
       "226813   226814  Как я устала , каждый день вставать в 7 утра и...  negative\n",
       "226814   226815  http://t.co/1XBDaRHabI Длинная зеленая куртка ...  negative\n",
       "226815   226816  Вчера в электричке дяденька рисовал мой портре...  negative\n",
       "226816   226817      Бля, еще хренотень какая-то снилась всю ночь(  negative\n",
       "226817   226818      я хочу спааать, но надо ещё на биологию идти(  negative\n",
       "226818   226819       Мой мальчик заболел:( http://t.co/oMSLJ7Z2IX  negative\n",
       "226819   226820      @LidiyaVlasova это точно ( походу давление ((  negative\n",
       "226820   226821  RT @Russia_calls: Шлегель забанил за это((  ht...  negative\n",
       "226821   226822  @alginova96 @Betyasso в школу все таки я пошла...  negative\n",
       "226822   226823  @ivanenko14 и у меня также, только будильник е...  negative\n",
       "226823   226824  Когда же я вернусь к тебе(( http://t.co/36qnCO...  negative\n",
       "226824   226825  RT @qelasocadij: Скажите пожалуйста, как у чел...  negative\n",
       "226825   226826  У нас физ ра на улице\\nПака линт:(\\nЧерез 45 м...  negative\n",
       "226826   226827  Нас сегодня отказались принять в сад, типа мы ...  negative\n",
       "226827   226828  Но не каждый хочет что то исправлять:( http://...  negative\n",
       "226828   226829  скучаю так :-( только @taaannyaaa вправляет мо...  negative\n",
       "226829   226830          Вот и в школу, в говно это идти уже надо(  negative\n",
       "226830   226831  RT @_Them__: @LisaBeroud Тауриэль, не грусти :...  negative\n",
       "226831   226832  Такси везет меня на работу. Раздумываю приплат...  negative\n",
       "\n",
       "[226828 rows x 3 columns]"
      ]
     },
     "execution_count": 5,
     "metadata": {},
     "output_type": "execute_result"
    }
   ],
   "source": [
    "df"
   ]
  },
  {
   "cell_type": "code",
   "execution_count": 6,
   "metadata": {},
   "outputs": [],
   "source": [
    "def print_plot(index):\n",
    "    example = df[df.index == index][['plot', 'tag']].values[0]\n",
    "    if len(example) > 0:\n",
    "        print(example[0])\n",
    "        print('Tag:', example[1])"
   ]
  },
  {
   "cell_type": "code",
   "execution_count": 7,
   "metadata": {},
   "outputs": [
    {
     "name": "stdout",
     "output_type": "stream",
     "text": [
      "@Kruglova_Julia_  дааааа))\n",
      "Ты... Ты... Ты и только ты...)*\n",
      "Tag: positive\n"
     ]
    }
   ],
   "source": [
    "print_plot(13)"
   ]
  },
  {
   "cell_type": "code",
   "execution_count": 8,
   "metadata": {},
   "outputs": [],
   "source": [
    "train_data, test_data = train_test_split(df, test_size=0.1, random_state=42)"
   ]
  },
  {
   "cell_type": "code",
   "execution_count": 9,
   "metadata": {},
   "outputs": [
    {
     "data": {
      "text/plain": [
       "22683"
      ]
     },
     "execution_count": 9,
     "metadata": {},
     "output_type": "execute_result"
    }
   ],
   "source": [
    "len(test_data)"
   ]
  },
  {
   "cell_type": "code",
   "execution_count": 10,
   "metadata": {},
   "outputs": [
    {
     "data": {
      "text/plain": [
       "<matplotlib.axes._subplots.AxesSubplot at 0x7f5f98391400>"
      ]
     },
     "execution_count": 10,
     "metadata": {},
     "output_type": "execute_result"
    },
    {
     "data": {
      "image/png": "[encoded data removed]",
      "text/plain": [
       "<Figure size 432x288 with 1 Axes>"
      ]
     },
     "metadata": {},
     "output_type": "display_data"
    }
   ],
   "source": [
    "test_data.tag.value_counts().plot(kind=\"bar\", rot=0)"
   ]
  },
  {
   "cell_type": "code",
   "execution_count": 11,
   "metadata": {},
   "outputs": [],
   "source": [
    "def plot_confusion_matrix(cm, title='Confusion matrix', cmap=plt.cm.Blues):\n",
    "    plt.imshow(cm, interpolation='nearest', cmap=cmap)\n",
    "    plt.title(title)\n",
    "    plt.colorbar()\n",
    "    tick_marks = np.arange(len(my_tags))\n",
    "    target_names = my_tags\n",
    "    plt.xticks(tick_marks, target_names, rotation=45)\n",
    "    plt.yticks(tick_marks, target_names)\n",
    "    plt.tight_layout()\n",
    "    plt.ylabel('True label')\n",
    "    plt.xlabel('Predicted label')"
   ]
  },
  {
   "cell_type": "code",
   "execution_count": 12,
   "metadata": {},
   "outputs": [],
   "source": [
    "def evaluate_prediction(predictions, target, title=\"Confusion matrix\"):\n",
    "    print('accuracy %s' % accuracy_score(target, predictions))\n",
    "    cm = confusion_matrix(target, predictions)\n",
    "    print('confusion matrix\\n %s' % cm)\n",
    "    print('(row=expected, col=predicted)')\n",
    "    \n",
    "    cm_normalized = cm.astype('float') / cm.sum(axis=1)[:, np.newaxis]\n",
    "    plot_confusion_matrix(cm_normalized, title + ' Normalized')"
   ]
  },
  {
   "cell_type": "code",
   "execution_count": 13,
   "metadata": {},
   "outputs": [],
   "source": [
    "def predict(vectorizer, classifier, data):\n",
    "    data_features = vectorizer.transform(data['plot'])\n",
    "    predictions = classifier.predict(data_features)\n",
    "    target = data['tag']\n",
    "    evaluate_prediction(predictions, target)"
   ]
  },
  {
   "cell_type": "code",
   "execution_count": 14,
   "metadata": {},
   "outputs": [],
   "source": [
    "def tokenize_text(text):\n",
    "    tokens = []\n",
    "    for sent in nltk.sent_tokenize(text):\n",
    "        for word in nltk.word_tokenize(sent):\n",
    "            if len(word) < 2:\n",
    "                continue\n",
    "            tokens.append(word.lower())\n",
    "    return tokens"
   ]
  },
  {
   "cell_type": "code",
   "execution_count": 15,
   "metadata": {},
   "outputs": [
    {
     "name": "stdout",
     "output_type": "stream",
     "text": [
      "CPU times: user 41.7 s, sys: 129 ms, total: 41.8 s\n",
      "Wall time: 41.8 s\n"
     ]
    }
   ],
   "source": [
    "%%time\n",
    "# training\n",
    "count_vectorizer = CountVectorizer(\n",
    "    analyzer=\"word\", tokenizer=nltk.word_tokenize,\n",
    "    preprocessor=None, stop_words='english', max_features=3000) \n",
    "train_data_features = count_vectorizer.fit_transform(train_data['plot'])"
   ]
  },
  {
   "cell_type": "code",
   "execution_count": 16,
   "metadata": {},
   "outputs": [
    {
     "name": "stdout",
     "output_type": "stream",
     "text": [
      "CPU times: user 4.28 s, sys: 12 ms, total: 4.29 s\n",
      "Wall time: 4.29 s\n"
     ]
    }
   ],
   "source": [
    "%%time\n",
    "\n",
    "logreg = linear_model.LogisticRegression(n_jobs=1, C=1e5)\n",
    "logreg = logreg.fit(train_data_features, train_data['tag'])"
   ]
  },
  {
   "cell_type": "code",
   "execution_count": 17,
   "metadata": {},
   "outputs": [
    {
     "data": {
      "text/plain": [
       "[':', ':3', ':33', '=', '?', '@', '[', ']', '^^', '^_^']"
      ]
     },
     "execution_count": 17,
     "metadata": {},
     "output_type": "execute_result"
    }
   ],
   "source": [
    "count_vectorizer.get_feature_names()[80:90]"
   ]
  },
  {
   "cell_type": "code",
   "execution_count": 18,
   "metadata": {},
   "outputs": [
    {
     "name": "stdout",
     "output_type": "stream",
     "text": [
      "accuracy 0.9972666754838425\n",
      "confusion matrix\n",
      " [[11167    28]\n",
      " [   34 11454]]\n",
      "(row=expected, col=predicted)\n",
      "CPU times: user 4.93 s, sys: 13.9 ms, total: 4.94 s\n",
      "Wall time: 5.23 s\n"
     ]
    },
    {
     "data": {
      "image/png": "[encoded data removed]",
      "text/plain": [
       "<Figure size 432x288 with 2 Axes>"
      ]
     },
     "metadata": {},
     "output_type": "display_data"
    }
   ],
   "source": [
    "%%time\n",
    "\n",
    "predict(count_vectorizer, logreg, test_data)"
   ]
  },
  {
   "cell_type": "code",
   "execution_count": 19,
   "metadata": {},
   "outputs": [],
   "source": [
    "def most_influential_words(vectorizer, genre_index=0, num_words=10):\n",
    "    features = vectorizer.get_feature_names()\n",
    "    max_coef = sorted(enumerate(logreg.coef_[genre_index]), key=lambda x:x[1], reverse=True)\n",
    "    return [features[x[0]] for x in max_coef[:num_words]]    "
   ]
  },
  {
   "cell_type": "code",
   "execution_count": 20,
   "metadata": {},
   "outputs": [
    {
     "name": "stdout",
     "output_type": "stream",
     "text": [
      "positive\n"
     ]
    },
    {
     "data": {
      "text/plain": [
       "[')', '^_^', 'ddd', 'd', 'dd', 'dddd', 'ddddd', 'логика', '***', '*']"
      ]
     },
     "execution_count": 20,
     "metadata": {},
     "output_type": "execute_result"
    }
   ],
   "source": [
    "genre_tag_id = 0\n",
    "print(my_tags[genre_tag_id])\n",
    "most_influential_words(count_vectorizer, genre_tag_id)"
   ]
  },
  {
   "cell_type": "code",
   "execution_count": 21,
   "metadata": {},
   "outputs": [
    {
     "data": {
      "text/plain": [
       "<1x3000 sparse matrix of type '<class 'numpy.int64'>'\n",
       "\twith 7 stored elements in Compressed Sparse Row format>"
      ]
     },
     "execution_count": 21,
     "metadata": {},
     "output_type": "execute_result"
    }
   ],
   "source": [
    "train_data_features[1]"
   ]
  },
  {
   "cell_type": "code",
   "execution_count": 22,
   "metadata": {},
   "outputs": [
    {
     "name": "stdout",
     "output_type": "stream",
     "text": [
      "CPU times: user 4min 30s, sys: 1.48 s, total: 4min 32s\n",
      "Wall time: 4min 32s\n"
     ]
    }
   ],
   "source": [
    "%%time\n",
    "n_gram_vectorizer = CountVectorizer(\n",
    "    analyzer=\"char\",\n",
    "    ngram_range=([2,5]),\n",
    "    tokenizer=None,    \n",
    "    preprocessor=None,                               \n",
    "    max_features=3000) \n",
    "\n",
    "logreg = linear_model.LogisticRegression(n_jobs=1, C=1e5)\n",
    "\n",
    "train_data_features = n_gram_vectorizer.fit_transform(train_data['plot'])\n",
    "\n",
    "logreg = logreg.fit(train_data_features, train_data['tag'])"
   ]
  },
  {
   "cell_type": "code",
   "execution_count": 23,
   "metadata": {},
   "outputs": [
    {
     "data": {
      "text/plain": [
       "[' б', ' ба', ' бе', ' без', ' без ', ' бл', ' бли', ' бо', ' бол', ' боль']"
      ]
     },
     "execution_count": 23,
     "metadata": {},
     "output_type": "execute_result"
    }
   ],
   "source": [
    "n_gram_vectorizer.get_feature_names()[50:60]"
   ]
  },
  {
   "cell_type": "code",
   "execution_count": 24,
   "metadata": {},
   "outputs": [
    {
     "name": "stdout",
     "output_type": "stream",
     "text": [
      "accuracy 0.9737689018207468\n",
      "confusion matrix\n",
      " [[10935   260]\n",
      " [  335 11153]]\n",
      "(row=expected, col=predicted)\n"
     ]
    },
    {
     "data": {
      "image/png": "[encoded data removed]",
      "text/plain": [
       "<Figure size 432x288 with 2 Axes>"
      ]
     },
     "metadata": {},
     "output_type": "display_data"
    }
   ],
   "source": [
    "predict(n_gram_vectorizer, logreg, test_data)"
   ]
  },
  {
   "cell_type": "code",
   "execution_count": 33,
   "metadata": {
    "collapsed": true
   },
   "outputs": [],
   "source": [
    "# Doc2Vec"
   ]
  },
  {
   "cell_type": "code",
   "execution_count": 25,
   "metadata": {},
   "outputs": [],
   "source": [
    "from gensim.models import Doc2Vec\n",
    "from gensim.models.doc2vec import TaggedDocument"
   ]
  },
  {
   "cell_type": "code",
   "execution_count": 26,
   "metadata": {},
   "outputs": [],
   "source": [
    "train_tagged = train_data.apply(\n",
    "    lambda r: TaggedDocument(words=tokenize_text(r['plot']), tags=[r.tag]), axis=1)"
   ]
  },
  {
   "cell_type": "code",
   "execution_count": 27,
   "metadata": {},
   "outputs": [],
   "source": [
    "test_tagged = test_data.apply(\n",
    "    lambda r: TaggedDocument(words=tokenize_text(r['plot']), tags=[r.tag]), axis=1)"
   ]
  },
  {
   "cell_type": "code",
   "execution_count": 28,
   "metadata": {},
   "outputs": [
    {
     "data": {
      "text/plain": [
       "TaggedDocument(words=['котейка', 'прищел', 'хорошо', 'что', 'ты', 'рядом', 'мне', 'тут', 'ужасно', 'http', '//t.co/1oa3gug2f4'], tags=['negative'])"
      ]
     },
     "execution_count": 28,
     "metadata": {},
     "output_type": "execute_result"
    }
   ],
   "source": [
    "test_tagged.values[52]"
   ]
  },
  {
   "cell_type": "code",
   "execution_count": 29,
   "metadata": {},
   "outputs": [
    {
     "name": "stderr",
     "output_type": "stream",
     "text": [
      "/home/max/python/yandex/gensim/lib/python3.6/site-packages/gensim/models/doc2vec.py:362: UserWarning: The parameter `iter` is deprecated, will be removed in 4.0.0, use `epochs` instead.\n",
      "  warnings.warn(\"The parameter `iter` is deprecated, will be removed in 4.0.0, use `epochs` instead.\")\n",
      "/home/max/python/yandex/gensim/lib/python3.6/site-packages/gensim/models/doc2vec.py:366: UserWarning: The parameter `size` is deprecated, will be removed in 4.0.0, use `vector_size` instead.\n",
      "  warnings.warn(\"The parameter `size` is deprecated, will be removed in 4.0.0, use `vector_size` instead.\")\n",
      "2018-11-11 13:35:08,790 : WARNING : consider setting layer size to a multiple of 4 for greater performance\n",
      "2018-11-11 13:35:08,791 : INFO : collecting all words and their counts\n",
      "2018-11-11 13:35:08,792 : INFO : PROGRESS: at example #0, processed 0 words (0/s), 0 word types, 0 tags\n",
      "2018-11-11 13:35:08,856 : INFO : PROGRESS: at example #10000, processed 111293 words (1755802/s), 33786 word types, 2 tags\n",
      "2018-11-11 13:35:08,917 : INFO : PROGRESS: at example #20000, processed 222238 words (1821622/s), 57104 word types, 2 tags\n",
      "2018-11-11 13:35:08,979 : INFO : PROGRESS: at example #30000, processed 333428 words (1797244/s), 77271 word types, 2 tags\n",
      "2018-11-11 13:35:09,044 : INFO : PROGRESS: at example #40000, processed 444036 words (1734655/s), 95616 word types, 2 tags\n",
      "2018-11-11 13:35:09,108 : INFO : PROGRESS: at example #50000, processed 554846 words (1736898/s), 112572 word types, 2 tags\n",
      "2018-11-11 13:35:09,173 : INFO : PROGRESS: at example #60000, processed 665790 words (1732098/s), 128373 word types, 2 tags\n",
      "2018-11-11 13:35:09,241 : INFO : PROGRESS: at example #70000, processed 777730 words (1651356/s), 143394 word types, 2 tags\n",
      "2018-11-11 13:35:09,307 : INFO : PROGRESS: at example #80000, processed 888597 words (1700529/s), 157383 word types, 2 tags\n",
      "2018-11-11 13:35:09,378 : INFO : PROGRESS: at example #90000, processed 999624 words (1594198/s), 170945 word types, 2 tags\n",
      "2018-11-11 13:35:09,451 : INFO : PROGRESS: at example #100000, processed 1111397 words (1550338/s), 184011 word types, 2 tags\n",
      "2018-11-11 13:35:09,520 : INFO : PROGRESS: at example #110000, processed 1223484 words (1632906/s), 196853 word types, 2 tags\n",
      "2018-11-11 13:35:09,590 : INFO : PROGRESS: at example #120000, processed 1335175 words (1626183/s), 209087 word types, 2 tags\n",
      "2018-11-11 13:35:09,656 : INFO : PROGRESS: at example #130000, processed 1446883 words (1721894/s), 220752 word types, 2 tags\n",
      "2018-11-11 13:35:09,721 : INFO : PROGRESS: at example #140000, processed 1559022 words (1720015/s), 232497 word types, 2 tags\n",
      "2018-11-11 13:35:09,787 : INFO : PROGRESS: at example #150000, processed 1670197 words (1706733/s), 243854 word types, 2 tags\n",
      "2018-11-11 13:35:09,857 : INFO : PROGRESS: at example #160000, processed 1782534 words (1610680/s), 254824 word types, 2 tags\n",
      "2018-11-11 13:35:09,931 : INFO : PROGRESS: at example #170000, processed 1894228 words (1534377/s), 265811 word types, 2 tags\n",
      "2018-11-11 13:35:10,003 : INFO : PROGRESS: at example #180000, processed 2005317 words (1551220/s), 276341 word types, 2 tags\n",
      "2018-11-11 13:35:10,074 : INFO : PROGRESS: at example #190000, processed 2116624 words (1594733/s), 286688 word types, 2 tags\n",
      "2018-11-11 13:35:10,145 : INFO : PROGRESS: at example #200000, processed 2227810 words (1574499/s), 296930 word types, 2 tags\n",
      "2018-11-11 13:35:10,174 : INFO : collected 301123 word types and 2 unique tags from a corpus of 204145 examples and 2274347 words\n",
      "2018-11-11 13:35:10,174 : INFO : Loading a fresh vocabulary\n",
      "2018-11-11 13:35:10,314 : INFO : min_count=5 retains 34851 unique words (11% of original 301123, drops 266272)\n",
      "2018-11-11 13:35:10,315 : INFO : min_count=5 leaves 1910857 word corpus (84% of original 2274347, drops 363490)\n",
      "2018-11-11 13:35:10,410 : INFO : deleting the raw counts dictionary of 301123 items\n",
      "2018-11-11 13:35:10,415 : INFO : sample=0.001 downsamples 44 most-common words\n",
      "2018-11-11 13:35:10,416 : INFO : downsampling leaves estimated 1622533 word corpus (84.9% of prior 1910857)\n",
      "2018-11-11 13:35:10,522 : INFO : estimated required memory for 34851 words and 5 dimensions: 18819980 bytes\n",
      "2018-11-11 13:35:10,522 : INFO : resetting layer weights\n",
      "2018-11-11 13:35:10,848 : INFO : training model with 1 workers on 34851 vocabulary and 5 features, using sg=0 hs=0 sample=0.001 negative=5 window=5\n",
      "2018-11-11 13:35:11,867 : INFO : EPOCH 1 - PROGRESS: at 18.52% examples, 331953 words/s, in_qsize 1, out_qsize 0\n",
      "2018-11-11 13:35:12,885 : INFO : EPOCH 1 - PROGRESS: at 36.56% examples, 327477 words/s, in_qsize 2, out_qsize 0\n",
      "2018-11-11 13:35:13,888 : INFO : EPOCH 1 - PROGRESS: at 54.57% examples, 327891 words/s, in_qsize 1, out_qsize 0\n",
      "2018-11-11 13:35:14,896 : INFO : EPOCH 1 - PROGRESS: at 72.53% examples, 327579 words/s, in_qsize 1, out_qsize 0\n",
      "2018-11-11 13:35:15,919 : INFO : EPOCH 1 - PROGRESS: at 90.97% examples, 327962 words/s, in_qsize 1, out_qsize 0\n",
      "2018-11-11 13:35:16,426 : INFO : worker thread finished; awaiting finish of 0 more threads\n",
      "2018-11-11 13:35:16,426 : INFO : EPOCH - 1 : training on 2274347 raw words (1826780 effective words) took 5.6s, 327699 effective words/s\n",
      "2018-11-11 13:35:17,442 : INFO : EPOCH 2 - PROGRESS: at 18.96% examples, 341512 words/s, in_qsize 1, out_qsize 0\n",
      "2018-11-11 13:35:18,449 : INFO : EPOCH 2 - PROGRESS: at 37.46% examples, 338217 words/s, in_qsize 1, out_qsize 0\n",
      "2018-11-11 13:35:19,466 : INFO : EPOCH 2 - PROGRESS: at 55.89% examples, 335839 words/s, in_qsize 1, out_qsize 0\n",
      "2018-11-11 13:35:20,470 : INFO : EPOCH 2 - PROGRESS: at 73.43% examples, 331987 words/s, in_qsize 1, out_qsize 0\n",
      "2018-11-11 13:35:21,474 : INFO : EPOCH 2 - PROGRESS: at 91.41% examples, 331172 words/s, in_qsize 1, out_qsize 0\n",
      "2018-11-11 13:35:21,944 : INFO : worker thread finished; awaiting finish of 0 more threads\n",
      "2018-11-11 13:35:21,944 : INFO : EPOCH - 2 : training on 2274347 raw words (1827064 effective words) took 5.5s, 331330 effective words/s\n",
      "2018-11-11 13:35:22,952 : INFO : EPOCH 3 - PROGRESS: at 18.08% examples, 328506 words/s, in_qsize 2, out_qsize 0\n",
      "2018-11-11 13:35:23,971 : INFO : EPOCH 3 - PROGRESS: at 36.56% examples, 329580 words/s, in_qsize 1, out_qsize 0\n",
      "2018-11-11 13:35:24,993 : INFO : EPOCH 3 - PROGRESS: at 55.02% examples, 329695 words/s, in_qsize 2, out_qsize 0\n",
      "2018-11-11 13:35:26,012 : INFO : EPOCH 3 - PROGRESS: at 73.43% examples, 329999 words/s, in_qsize 1, out_qsize 0\n",
      "2018-11-11 13:35:27,032 : INFO : EPOCH 3 - PROGRESS: at 91.85% examples, 330192 words/s, in_qsize 1, out_qsize 0\n",
      "2018-11-11 13:35:27,485 : INFO : worker thread finished; awaiting finish of 0 more threads\n",
      "2018-11-11 13:35:27,485 : INFO : EPOCH - 3 : training on 2274347 raw words (1826933 effective words) took 5.5s, 330049 effective words/s\n",
      "2018-11-11 13:35:28,513 : INFO : EPOCH 4 - PROGRESS: at 19.40% examples, 345747 words/s, in_qsize 1, out_qsize 0\n",
      "2018-11-11 13:35:29,532 : INFO : EPOCH 4 - PROGRESS: at 37.91% examples, 338433 words/s, in_qsize 1, out_qsize 0\n",
      "2018-11-11 13:35:30,545 : INFO : EPOCH 4 - PROGRESS: at 56.33% examples, 336547 words/s, in_qsize 1, out_qsize 0\n",
      "2018-11-11 13:35:31,560 : INFO : EPOCH 4 - PROGRESS: at 74.31% examples, 333454 words/s, in_qsize 1, out_qsize 0\n",
      "2018-11-11 13:35:32,578 : INFO : EPOCH 4 - PROGRESS: at 92.28% examples, 331404 words/s, in_qsize 1, out_qsize 0\n",
      "2018-11-11 13:35:33,003 : INFO : worker thread finished; awaiting finish of 0 more threads\n",
      "2018-11-11 13:35:33,004 : INFO : EPOCH - 4 : training on 2274347 raw words (1826668 effective words) took 5.5s, 331315 effective words/s\n",
      "2018-11-11 13:35:34,020 : INFO : EPOCH 5 - PROGRESS: at 18.96% examples, 341865 words/s, in_qsize 1, out_qsize 0\n",
      "2018-11-11 13:35:35,035 : INFO : EPOCH 5 - PROGRESS: at 37.46% examples, 336968 words/s, in_qsize 1, out_qsize 0\n",
      "2018-11-11 13:35:36,045 : INFO : EPOCH 5 - PROGRESS: at 55.89% examples, 335779 words/s, in_qsize 1, out_qsize 0\n",
      "2018-11-11 13:35:37,058 : INFO : EPOCH 5 - PROGRESS: at 74.31% examples, 335092 words/s, in_qsize 1, out_qsize 0\n",
      "2018-11-11 13:35:38,073 : INFO : EPOCH 5 - PROGRESS: at 92.73% examples, 334479 words/s, in_qsize 1, out_qsize 0\n",
      "2018-11-11 13:35:38,496 : INFO : worker thread finished; awaiting finish of 0 more threads\n"
     ]
    },
    {
     "name": "stderr",
     "output_type": "stream",
     "text": [
      "2018-11-11 13:35:38,497 : INFO : EPOCH - 5 : training on 2274347 raw words (1826655 effective words) took 5.5s, 332883 effective words/s\n",
      "2018-11-11 13:35:39,508 : INFO : EPOCH 6 - PROGRESS: at 18.96% examples, 343460 words/s, in_qsize 1, out_qsize 0\n",
      "2018-11-11 13:35:40,522 : INFO : EPOCH 6 - PROGRESS: at 37.46% examples, 337842 words/s, in_qsize 1, out_qsize 0\n",
      "2018-11-11 13:35:41,539 : INFO : EPOCH 6 - PROGRESS: at 55.89% examples, 335646 words/s, in_qsize 1, out_qsize 0\n",
      "2018-11-11 13:35:42,560 : INFO : EPOCH 6 - PROGRESS: at 74.31% examples, 334311 words/s, in_qsize 1, out_qsize 0\n",
      "2018-11-11 13:35:43,582 : INFO : EPOCH 6 - PROGRESS: at 92.73% examples, 333354 words/s, in_qsize 1, out_qsize 0\n",
      "2018-11-11 13:35:43,995 : INFO : worker thread finished; awaiting finish of 0 more threads\n",
      "2018-11-11 13:35:43,996 : INFO : EPOCH - 6 : training on 2274347 raw words (1826029 effective words) took 5.5s, 332393 effective words/s\n",
      "2018-11-11 13:35:45,009 : INFO : EPOCH 7 - PROGRESS: at 18.08% examples, 326365 words/s, in_qsize 2, out_qsize 0\n",
      "2018-11-11 13:35:46,034 : INFO : EPOCH 7 - PROGRESS: at 36.13% examples, 323502 words/s, in_qsize 2, out_qsize 0\n",
      "2018-11-11 13:35:47,047 : INFO : EPOCH 7 - PROGRESS: at 54.13% examples, 323938 words/s, in_qsize 1, out_qsize 0\n",
      "2018-11-11 13:35:48,062 : INFO : EPOCH 7 - PROGRESS: at 72.09% examples, 324066 words/s, in_qsize 2, out_qsize 0\n",
      "2018-11-11 13:35:49,064 : INFO : EPOCH 7 - PROGRESS: at 89.66% examples, 323346 words/s, in_qsize 2, out_qsize 0\n",
      "2018-11-11 13:35:49,637 : INFO : worker thread finished; awaiting finish of 0 more threads\n",
      "2018-11-11 13:35:49,637 : INFO : EPOCH - 7 : training on 2274347 raw words (1826196 effective words) took 5.6s, 323935 effective words/s\n",
      "2018-11-11 13:35:50,665 : INFO : EPOCH 8 - PROGRESS: at 18.96% examples, 337376 words/s, in_qsize 1, out_qsize 0\n",
      "2018-11-11 13:35:51,667 : INFO : EPOCH 8 - PROGRESS: at 37.46% examples, 336942 words/s, in_qsize 1, out_qsize 0\n",
      "2018-11-11 13:35:52,677 : INFO : EPOCH 8 - PROGRESS: at 55.89% examples, 335780 words/s, in_qsize 1, out_qsize 0\n",
      "2018-11-11 13:35:53,694 : INFO : EPOCH 8 - PROGRESS: at 73.87% examples, 332793 words/s, in_qsize 1, out_qsize 0\n",
      "2018-11-11 13:35:54,714 : INFO : EPOCH 8 - PROGRESS: at 92.28% examples, 332328 words/s, in_qsize 1, out_qsize 0\n",
      "2018-11-11 13:35:55,149 : INFO : worker thread finished; awaiting finish of 0 more threads\n",
      "2018-11-11 13:35:55,149 : INFO : EPOCH - 8 : training on 2274347 raw words (1826304 effective words) took 5.5s, 331591 effective words/s\n",
      "2018-11-11 13:35:56,178 : INFO : EPOCH 9 - PROGRESS: at 18.96% examples, 336958 words/s, in_qsize 1, out_qsize 0\n",
      "2018-11-11 13:35:57,195 : INFO : EPOCH 9 - PROGRESS: at 37.46% examples, 334227 words/s, in_qsize 2, out_qsize 0\n",
      "2018-11-11 13:35:58,209 : INFO : EPOCH 9 - PROGRESS: at 55.89% examples, 333648 words/s, in_qsize 1, out_qsize 0\n",
      "2018-11-11 13:35:59,222 : INFO : EPOCH 9 - PROGRESS: at 74.31% examples, 333488 words/s, in_qsize 1, out_qsize 0\n",
      "2018-11-11 13:36:00,235 : INFO : EPOCH 9 - PROGRESS: at 92.73% examples, 333330 words/s, in_qsize 1, out_qsize 0\n",
      "2018-11-11 13:36:00,635 : INFO : worker thread finished; awaiting finish of 0 more threads\n",
      "2018-11-11 13:36:00,636 : INFO : EPOCH - 9 : training on 2274347 raw words (1826475 effective words) took 5.5s, 333160 effective words/s\n",
      "2018-11-11 13:36:01,642 : INFO : EPOCH 10 - PROGRESS: at 18.52% examples, 337056 words/s, in_qsize 1, out_qsize 0\n",
      "2018-11-11 13:36:02,667 : INFO : EPOCH 10 - PROGRESS: at 37.46% examples, 337114 words/s, in_qsize 1, out_qsize 0\n",
      "2018-11-11 13:36:03,677 : INFO : EPOCH 10 - PROGRESS: at 55.89% examples, 335888 words/s, in_qsize 1, out_qsize 0\n",
      "2018-11-11 13:36:04,689 : INFO : EPOCH 10 - PROGRESS: at 74.31% examples, 335271 words/s, in_qsize 1, out_qsize 0\n",
      "2018-11-11 13:36:05,704 : INFO : EPOCH 10 - PROGRESS: at 92.73% examples, 334618 words/s, in_qsize 1, out_qsize 0\n",
      "2018-11-11 13:36:06,100 : INFO : worker thread finished; awaiting finish of 0 more threads\n",
      "2018-11-11 13:36:06,101 : INFO : EPOCH - 10 : training on 2274347 raw words (1826775 effective words) took 5.5s, 334624 effective words/s\n",
      "2018-11-11 13:36:07,118 : INFO : EPOCH 11 - PROGRESS: at 18.96% examples, 340898 words/s, in_qsize 2, out_qsize 0\n",
      "2018-11-11 13:36:08,125 : INFO : EPOCH 11 - PROGRESS: at 37.00% examples, 333848 words/s, in_qsize 1, out_qsize 0\n",
      "2018-11-11 13:36:09,150 : INFO : EPOCH 11 - PROGRESS: at 55.02% examples, 329437 words/s, in_qsize 2, out_qsize 0\n",
      "2018-11-11 13:36:10,154 : INFO : EPOCH 11 - PROGRESS: at 72.98% examples, 329179 words/s, in_qsize 1, out_qsize 0\n",
      "2018-11-11 13:36:11,164 : INFO : EPOCH 11 - PROGRESS: at 90.97% examples, 328562 words/s, in_qsize 1, out_qsize 0\n",
      "2018-11-11 13:36:11,673 : INFO : worker thread finished; awaiting finish of 0 more threads\n",
      "2018-11-11 13:36:11,674 : INFO : EPOCH - 11 : training on 2274347 raw words (1827070 effective words) took 5.6s, 328036 effective words/s\n",
      "2018-11-11 13:36:12,689 : INFO : EPOCH 12 - PROGRESS: at 18.52% examples, 333847 words/s, in_qsize 2, out_qsize 0\n",
      "2018-11-11 13:36:13,705 : INFO : EPOCH 12 - PROGRESS: at 36.56% examples, 328677 words/s, in_qsize 1, out_qsize 0\n",
      "2018-11-11 13:36:14,711 : INFO : EPOCH 12 - PROGRESS: at 54.57% examples, 328133 words/s, in_qsize 1, out_qsize 0\n",
      "2018-11-11 13:36:15,717 : INFO : EPOCH 12 - PROGRESS: at 72.53% examples, 327974 words/s, in_qsize 1, out_qsize 0\n",
      "2018-11-11 13:36:16,720 : INFO : EPOCH 12 - PROGRESS: at 90.52% examples, 328148 words/s, in_qsize 1, out_qsize 0\n",
      "2018-11-11 13:36:17,256 : INFO : worker thread finished; awaiting finish of 0 more threads\n",
      "2018-11-11 13:36:17,256 : INFO : EPOCH - 12 : training on 2274347 raw words (1827118 effective words) took 5.6s, 327555 effective words/s\n",
      "2018-11-11 13:36:18,262 : INFO : EPOCH 13 - PROGRESS: at 18.52% examples, 336969 words/s, in_qsize 2, out_qsize 0\n",
      "2018-11-11 13:36:19,262 : INFO : EPOCH 13 - PROGRESS: at 36.56% examples, 332952 words/s, in_qsize 1, out_qsize 0\n",
      "2018-11-11 13:36:20,278 : INFO : EPOCH 13 - PROGRESS: at 55.02% examples, 332599 words/s, in_qsize 2, out_qsize 0\n",
      "2018-11-11 13:36:21,281 : INFO : EPOCH 13 - PROGRESS: at 72.98% examples, 331431 words/s, in_qsize 1, out_qsize 0\n",
      "2018-11-11 13:36:22,283 : INFO : EPOCH 13 - PROGRESS: at 90.97% examples, 330904 words/s, in_qsize 2, out_qsize 0\n",
      "2018-11-11 13:36:22,790 : INFO : worker thread finished; awaiting finish of 0 more threads\n",
      "2018-11-11 13:36:22,790 : INFO : EPOCH - 13 : training on 2274347 raw words (1826624 effective words) took 5.5s, 330349 effective words/s\n",
      "2018-11-11 13:36:23,812 : INFO : EPOCH 14 - PROGRESS: at 18.96% examples, 339313 words/s, in_qsize 1, out_qsize 0\n",
      "2018-11-11 13:36:24,817 : INFO : EPOCH 14 - PROGRESS: at 37.00% examples, 333341 words/s, in_qsize 1, out_qsize 0\n",
      "2018-11-11 13:36:25,824 : INFO : EPOCH 14 - PROGRESS: at 55.02% examples, 331179 words/s, in_qsize 1, out_qsize 0\n",
      "2018-11-11 13:36:26,849 : INFO : EPOCH 14 - PROGRESS: at 73.43% examples, 330723 words/s, in_qsize 2, out_qsize 0\n",
      "2018-11-11 13:36:27,871 : INFO : EPOCH 14 - PROGRESS: at 91.85% examples, 330552 words/s, in_qsize 1, out_qsize 0\n",
      "2018-11-11 13:36:28,329 : INFO : worker thread finished; awaiting finish of 0 more threads\n",
      "2018-11-11 13:36:28,329 : INFO : EPOCH - 14 : training on 2274347 raw words (1826845 effective words) took 5.5s, 330072 effective words/s\n",
      "2018-11-11 13:36:29,349 : INFO : EPOCH 15 - PROGRESS: at 18.52% examples, 332537 words/s, in_qsize 1, out_qsize 0\n",
      "2018-11-11 13:36:30,372 : INFO : EPOCH 15 - PROGRESS: at 36.56% examples, 326891 words/s, in_qsize 1, out_qsize 0\n",
      "2018-11-11 13:36:31,384 : INFO : EPOCH 15 - PROGRESS: at 54.13% examples, 323833 words/s, in_qsize 2, out_qsize 0\n",
      "2018-11-11 13:36:32,388 : INFO : EPOCH 15 - PROGRESS: at 71.22% examples, 320921 words/s, in_qsize 2, out_qsize 0\n",
      "2018-11-11 13:36:33,398 : INFO : EPOCH 15 - PROGRESS: at 88.78% examples, 320321 words/s, in_qsize 1, out_qsize 0\n",
      "2018-11-11 13:36:34,043 : INFO : worker thread finished; awaiting finish of 0 more threads\n",
      "2018-11-11 13:36:34,043 : INFO : EPOCH - 15 : training on 2274347 raw words (1826791 effective words) took 5.7s, 320001 effective words/s\n",
      "2018-11-11 13:36:35,058 : INFO : EPOCH 16 - PROGRESS: at 18.08% examples, 326351 words/s, in_qsize 1, out_qsize 0\n"
     ]
    },
    {
     "name": "stderr",
     "output_type": "stream",
     "text": [
      "2018-11-11 13:36:36,074 : INFO : EPOCH 16 - PROGRESS: at 35.26% examples, 317072 words/s, in_qsize 1, out_qsize 0\n",
      "2018-11-11 13:36:37,086 : INFO : EPOCH 16 - PROGRESS: at 52.83% examples, 317213 words/s, in_qsize 2, out_qsize 0\n",
      "2018-11-11 13:36:38,096 : INFO : EPOCH 16 - PROGRESS: at 69.91% examples, 315408 words/s, in_qsize 2, out_qsize 0\n",
      "2018-11-11 13:36:39,098 : INFO : EPOCH 16 - PROGRESS: at 87.01% examples, 314817 words/s, in_qsize 2, out_qsize 0\n",
      "2018-11-11 13:36:39,842 : INFO : worker thread finished; awaiting finish of 0 more threads\n",
      "2018-11-11 13:36:39,843 : INFO : EPOCH - 16 : training on 2274347 raw words (1826539 effective words) took 5.8s, 315261 effective words/s\n",
      "2018-11-11 13:36:40,860 : INFO : EPOCH 17 - PROGRESS: at 17.63% examples, 317227 words/s, in_qsize 1, out_qsize 0\n",
      "2018-11-11 13:36:41,884 : INFO : EPOCH 17 - PROGRESS: at 35.26% examples, 315401 words/s, in_qsize 1, out_qsize 0\n",
      "2018-11-11 13:36:42,899 : INFO : EPOCH 17 - PROGRESS: at 53.26% examples, 318420 words/s, in_qsize 1, out_qsize 0\n",
      "2018-11-11 13:36:43,905 : INFO : EPOCH 17 - PROGRESS: at 70.35% examples, 316541 words/s, in_qsize 2, out_qsize 0\n",
      "2018-11-11 13:36:44,918 : INFO : EPOCH 17 - PROGRESS: at 86.57% examples, 311913 words/s, in_qsize 1, out_qsize 0\n",
      "2018-11-11 13:36:45,737 : INFO : worker thread finished; awaiting finish of 0 more threads\n",
      "2018-11-11 13:36:45,737 : INFO : EPOCH - 17 : training on 2274347 raw words (1826946 effective words) took 5.9s, 310171 effective words/s\n",
      "2018-11-11 13:36:46,751 : INFO : EPOCH 18 - PROGRESS: at 17.63% examples, 318131 words/s, in_qsize 1, out_qsize 0\n",
      "2018-11-11 13:36:47,754 : INFO : EPOCH 18 - PROGRESS: at 35.26% examples, 318856 words/s, in_qsize 1, out_qsize 0\n",
      "2018-11-11 13:36:48,759 : INFO : EPOCH 18 - PROGRESS: at 52.40% examples, 316481 words/s, in_qsize 2, out_qsize 0\n",
      "2018-11-11 13:36:49,777 : INFO : EPOCH 18 - PROGRESS: at 69.91% examples, 316217 words/s, in_qsize 2, out_qsize 0\n",
      "2018-11-11 13:36:50,781 : INFO : EPOCH 18 - PROGRESS: at 86.57% examples, 313761 words/s, in_qsize 1, out_qsize 0\n",
      "2018-11-11 13:36:51,563 : INFO : worker thread finished; awaiting finish of 0 more threads\n",
      "2018-11-11 13:36:51,564 : INFO : EPOCH - 18 : training on 2274347 raw words (1826299 effective words) took 5.8s, 313656 effective words/s\n",
      "2018-11-11 13:36:52,570 : INFO : EPOCH 19 - PROGRESS: at 17.19% examples, 313038 words/s, in_qsize 2, out_qsize 0\n",
      "2018-11-11 13:36:53,582 : INFO : EPOCH 19 - PROGRESS: at 34.37% examples, 311082 words/s, in_qsize 1, out_qsize 0\n",
      "2018-11-11 13:36:54,590 : INFO : EPOCH 19 - PROGRESS: at 51.52% examples, 311057 words/s, in_qsize 1, out_qsize 0\n",
      "2018-11-11 13:36:55,592 : INFO : EPOCH 19 - PROGRESS: at 69.03% examples, 313371 words/s, in_qsize 2, out_qsize 0\n",
      "2018-11-11 13:36:56,616 : INFO : EPOCH 19 - PROGRESS: at 87.01% examples, 315068 words/s, in_qsize 1, out_qsize 0\n",
      "2018-11-11 13:36:57,357 : INFO : worker thread finished; awaiting finish of 0 more threads\n",
      "2018-11-11 13:36:57,358 : INFO : EPOCH - 19 : training on 2274347 raw words (1826947 effective words) took 5.8s, 315609 effective words/s\n",
      "2018-11-11 13:36:58,372 : INFO : EPOCH 20 - PROGRESS: at 18.08% examples, 326243 words/s, in_qsize 1, out_qsize 0\n",
      "2018-11-11 13:36:59,390 : INFO : EPOCH 20 - PROGRESS: at 36.13% examples, 324635 words/s, in_qsize 2, out_qsize 0\n",
      "2018-11-11 13:37:00,394 : INFO : EPOCH 20 - PROGRESS: at 54.13% examples, 325783 words/s, in_qsize 2, out_qsize 0\n",
      "2018-11-11 13:37:01,409 : INFO : EPOCH 20 - PROGRESS: at 71.22% examples, 321450 words/s, in_qsize 2, out_qsize 0\n",
      "2018-11-11 13:37:02,424 : INFO : EPOCH 20 - PROGRESS: at 89.66% examples, 323627 words/s, in_qsize 1, out_qsize 0\n",
      "2018-11-11 13:37:03,014 : INFO : worker thread finished; awaiting finish of 0 more threads\n",
      "2018-11-11 13:37:03,014 : INFO : EPOCH - 20 : training on 2274347 raw words (1827019 effective words) took 5.7s, 323236 effective words/s\n",
      "2018-11-11 13:37:03,015 : INFO : training on a 45486940 raw words (36534077 effective words) took 112.2s, 325714 effective words/s\n"
     ]
    },
    {
     "name": "stdout",
     "output_type": "stream",
     "text": [
      "CPU times: user 3min 14s, sys: 415 ms, total: 3min 14s\n",
      "Wall time: 3min 14s\n"
     ]
    }
   ],
   "source": [
    "%%time\n",
    "trainsent = train_tagged.values\n",
    "testsent = test_tagged.values\n",
    "\n",
    "# simple gensim doc2vec api\n",
    "doc2vec_model = Doc2Vec(trainsent, workers=1, size=5, iter=20, dm=1)\n",
    "\n",
    "train_targets, train_regressors = zip(\n",
    "    *[(doc.tags[0], doc2vec_model.infer_vector(doc.words, steps=20)) for doc in trainsent])"
   ]
  },
  {
   "cell_type": "code",
   "execution_count": 30,
   "metadata": {},
   "outputs": [
    {
     "name": "stdout",
     "output_type": "stream",
     "text": [
      "CPU times: user 8.43 s, sys: 1e+03 ns, total: 8.43 s\n",
      "Wall time: 8.43 s\n"
     ]
    }
   ],
   "source": [
    "%%time\n",
    "test_targets, test_regressors = zip(\n",
    "    *[(doc.tags[0], doc2vec_model.infer_vector(doc.words, steps=20)) for doc in testsent])"
   ]
  },
  {
   "cell_type": "code",
   "execution_count": 31,
   "metadata": {},
   "outputs": [
    {
     "name": "stdout",
     "output_type": "stream",
     "text": [
      "accuracy 0.6095313671031168\n",
      "confusion matrix\n",
      " [[6728 4467]\n",
      " [4390 7098]]\n",
      "(row=expected, col=predicted)\n"
     ]
    },
    {
     "data": {
      "image/png": "[encoded data removed]",
      "text/plain": [
       "<Figure size 432x288 with 2 Axes>"
      ]
     },
     "metadata": {},
     "output_type": "display_data"
    }
   ],
   "source": [
    "logreg = linear_model.LogisticRegression(n_jobs=1, C=1e5)\n",
    "logreg = logreg.fit(train_regressors, train_targets)\n",
    "evaluate_prediction(logreg.predict(test_regressors), test_targets, title=str(doc2vec_model))"
   ]
  },
  {
   "cell_type": "code",
   "execution_count": 32,
   "metadata": {},
   "outputs": [
    {
     "name": "stderr",
     "output_type": "stream",
     "text": [
      "2018-11-11 13:41:27,892 : INFO : precomputing L2-norms of doc weight vectors\n"
     ]
    },
    {
     "name": "stdout",
     "output_type": "stream",
     "text": [
      "accuracy 0.6085614777586739\n",
      "confusion matrix\n",
      " [[6335 4860]\n",
      " [4019 7469]]\n",
      "(row=expected, col=predicted)\n",
      "CPU times: user 1.17 s, sys: 16 ms, total: 1.18 s\n",
      "Wall time: 1.16 s\n"
     ]
    },
    {
     "data": {
      "image/png": "[encoded data removed]",
      "text/plain": [
       "<Figure size 432x288 with 2 Axes>"
      ]
     },
     "metadata": {},
     "output_type": "display_data"
    }
   ],
   "source": [
    "%%time \n",
    "knn_test_predictions = [\n",
    "    doc2vec_model.docvecs.most_similar([pred_vec], topn=1)[0][0]\n",
    "    for pred_vec in test_regressors\n",
    "]\n",
    "evaluate_prediction(knn_test_predictions, test_targets, str(doc2vec_model))"
   ]
  },
  {
   "cell_type": "code",
   "execution_count": 33,
   "metadata": {},
   "outputs": [
    {
     "data": {
      "text/plain": [
       "[('negative', 0.44412583112716675)]"
      ]
     },
     "execution_count": 33,
     "metadata": {},
     "output_type": "execute_result"
    }
   ],
   "source": [
    "doc2vec_model.docvecs.most_similar('positive')"
   ]
  },
  {
   "cell_type": "code",
   "execution_count": 34,
   "metadata": {},
   "outputs": [
    {
     "name": "stderr",
     "output_type": "stream",
     "text": [
      "2018-11-11 13:41:33,848 : INFO : precomputing L2-norms of word weight vectors\n"
     ]
    },
    {
     "data": {
      "text/plain": [
       "[('сочетание', 0.9975453019142151),\n",
       " ('посему', 0.9973621368408203),\n",
       " ('новое', 0.9964147210121155),\n",
       " ('killjoy_anna', 0.9948328733444214),\n",
       " ('apollo_loki', 0.9941250681877136),\n",
       " ('svaluev', 0.9937664270401001),\n",
       " ('-d', 0.9936102032661438),\n",
       " ('звери', 0.9929489493370056),\n",
       " ('snapy_ekb', 0.9924319386482239),\n",
       " ('supeeerrrr', 0.9924147725105286)]"
      ]
     },
     "execution_count": 34,
     "metadata": {},
     "output_type": "execute_result"
    }
   ],
   "source": [
    "doc2vec_model.wv.most_similar([doc2vec_model.docvecs['positive']])"
   ]
  },
  {
   "cell_type": "code",
   "execution_count": 35,
   "metadata": {},
   "outputs": [
    {
     "name": "stdout",
     "output_type": "stream",
     "text": [
      "accuracy 0.6137195256359388\n",
      "confusion matrix\n",
      " [[6820 4375]\n",
      " [4387 7101]]\n",
      "(row=expected, col=predicted)\n",
      "34\n"
     ]
    },
    {
     "data": {
      "image/png": "[encoded data removed]",
      "text/plain": [
       "<Figure size 432x288 with 2 Axes>"
      ]
     },
     "metadata": {},
     "output_type": "display_data"
    }
   ],
   "source": [
    "seed = 34\n",
    "#24, 31, 34, 36, 38\n",
    "\n",
    "doc2vec_model.seed = seed\n",
    "doc2vec_model.random = random.RandomState(seed)\n",
    "\n",
    "\n",
    "test_targets, test_regressors = zip(\n",
    "    *[(doc.tags[0], doc2vec_model.infer_vector(doc.words, steps=20)) for doc in testsent])\n",
    "\n",
    "\n",
    "logreg = linear_model.LogisticRegression(n_jobs=1, C=1e5, random_state=42)\n",
    "logreg = logreg.fit(train_regressors, train_targets)\n",
    "evaluate_prediction(logreg.predict(test_regressors), test_targets, title=str(doc2vec_model))\n",
    "print (doc2vec_model.seed)"
   ]
  },
  {
   "cell_type": "code",
   "execution_count": 37,
   "metadata": {},
   "outputs": [
    {
     "name": "stdout",
     "output_type": "stream",
     "text": [
      "*****---*****\n",
      "['обожаю', 'ходить', 'и', 'танцевать']\n",
      "[('positive', 0.8357163667678833), ('negative', 0.29398486018180847)]\n"
     ]
    }
   ],
   "source": [
    "print('*****---*****')\n",
    "\n",
    "word_list = 'обожаю ходить и танцевать'.split(' ')\n",
    "\n",
    "infer_vector = doc2vec_model.infer_vector(word_list)\n",
    "similar_documents = doc2vec_model.docvecs.most_similar([infer_vector], topn = 2)\n",
    "print(word_list)\n",
    "print(similar_documents)\n"
   ]
  },
  {
   "cell_type": "code",
   "execution_count": null,
   "metadata": {
    "collapsed": true
   },
   "outputs": [],
   "source": []
  }
 ],
 "metadata": {
  "kernelspec": {
   "display_name": "Python 3",
   "language": "python",
   "name": "python3"
  },
  "language_info": {
   "codemirror_mode": {
    "name": "ipython",
    "version": 3
   },
   "file_extension": ".py",
   "mimetype": "text/x-python",
   "name": "python",
   "nbconvert_exporter": "python",
   "pygments_lexer": "ipython3",
   "version": "3.6.3"
  }
 },
 "nbformat": 4,
 "nbformat_minor": 2
}
